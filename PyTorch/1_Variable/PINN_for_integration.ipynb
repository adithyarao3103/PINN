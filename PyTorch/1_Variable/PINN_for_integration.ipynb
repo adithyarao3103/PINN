{
 "cells": [
  {
   "cell_type": "code",
   "execution_count": 10,
   "metadata": {},
   "outputs": [],
   "source": [
    "import torch\n",
    "import torch.nn as nn\n",
    "import torch.optim as optim\n",
    "import numpy as np\n",
    "import matplotlib.pyplot as plt"
   ]
  },
  {
   "cell_type": "code",
   "execution_count": 11,
   "metadata": {},
   "outputs": [],
   "source": [
    "class PINN(nn.Module):\n",
    "    def __init__(\n",
    "            self, \n",
    "            num_inputs: int=1,\n",
    "            num_hidden_layers: int=1,\n",
    "            num_neurons: int=1,\n",
    "            num_outputs: int=1,\n",
    "            activation: nn.Module = nn.Tanh()\n",
    "    ):\n",
    "        super().__init__()\n",
    "        self.num_inputs = num_inputs\n",
    "        self.num_hidden_layers = num_hidden_layers\n",
    "        self.num_neurons = num_neurons\n",
    "        self.num_outputs = num_outputs\n",
    "        self.activation = activation\n",
    "\n",
    "        layers = [nn.Linear(num_inputs, num_neurons)]\n",
    "\n",
    "        for _ in range(num_hidden_layers):\n",
    "            layers.append(activation)\n",
    "            layers.append(nn.Linear(num_neurons, num_neurons))\n",
    "        \n",
    "        layers.append(activation)\n",
    "        layers.append(nn.Linear(num_neurons, num_outputs))\n",
    "\n",
    "        self.network = nn.Sequential(*layers)\n",
    "\n",
    "    def forward(self, x):\n",
    "        return self.network(x)"
   ]
  },
  {
   "cell_type": "code",
   "execution_count": 12,
   "metadata": {},
   "outputs": [],
   "source": [
    "R = 1.0\n",
    "X_BOUNDARY=0.0\n",
    "FUN_BOUNDARY=0.0\n",
    "NUM_INPUTS = 1\n",
    "NUM_OUTPUTS = 1\n",
    "DOMAIN = (-0.9, 0.9)"
   ]
  },
  {
   "cell_type": "code",
   "execution_count": 13,
   "metadata": {},
   "outputs": [],
   "source": [
    "\n",
    "def loss_function(\n",
    "        model: nn.Module, \n",
    "        x: torch.Tensor,\n",
    "        bx: torch.Tensor = torch.Tensor([X_BOUNDARY]), \n",
    "        bu: torch.Tensor = torch.Tensor([FUN_BOUNDARY]),\n",
    "    ) -> torch.Tensor:\n",
    "    u = model(x)\n",
    "    u_x = torch.autograd.grad(u, x, torch.ones_like(u), create_graph=True)[0]\n",
    "\n",
    "    pde = u_x - 1/(1 - torch.square(x)) \n",
    "    bc = model(bx) - bu\n",
    "\n",
    "    loss = torch.mean(pde**2) + torch.mean(bc**2)\n",
    "\n",
    "    return loss"
   ]
  },
  {
   "cell_type": "code",
   "execution_count": 14,
   "metadata": {},
   "outputs": [],
   "source": [
    "NUM_LAYERS = 10\n",
    "NUM_NEURONS = 10\n",
    "EPOCHS = 100000 #how many times the training step is performed\n",
    "BATCH_SIZE = 20 # how many input values are considered for each epoch\n",
    "LEARNING_RATE = 5e-5\n",
    "TOLERANCE = 1e-5"
   ]
  },
  {
   "cell_type": "code",
   "execution_count": 15,
   "metadata": {},
   "outputs": [],
   "source": [
    "from IPython.display import clear_output"
   ]
  },
  {
   "cell_type": "code",
   "execution_count": 16,
   "metadata": {},
   "outputs": [],
   "source": [
    "model = PINN(num_inputs=NUM_INPUTS,  num_hidden_layers= NUM_LAYERS, num_neurons=NUM_NEURONS, num_outputs=1)\n",
    "optimizer = optim.Adam(model.parameters(), lr=LEARNING_RATE)\n"
   ]
  },
  {
   "cell_type": "code",
   "execution_count": 17,
   "metadata": {},
   "outputs": [],
   "source": [
    "def train_step(model,input):\n",
    "    optimizer.zero_grad()\n",
    "    loss = loss_function(model, input)\n",
    "    loss.backward()\n",
    "    optimizer.step()\n",
    "\n",
    "    return loss\n"
   ]
  },
  {
   "cell_type": "code",
   "execution_count": 18,
   "metadata": {},
   "outputs": [
    {
     "name": "stdout",
     "output_type": "stream",
     "text": [
      "Epoch: 0, Loss: 2.34452223777771\n",
      "Epoch: 1000, Loss: 4.498660564422607\n",
      "Epoch: 2000, Loss: 0.8621701002120972\n",
      "Epoch: 3000, Loss: 0.27699851989746094\n",
      "Epoch: 4000, Loss: 0.1740504801273346\n",
      "Epoch: 5000, Loss: 0.4873426556587219\n",
      "Epoch: 6000, Loss: 0.6641388535499573\n",
      "Epoch: 7000, Loss: 0.20552760362625122\n",
      "Epoch: 8000, Loss: 0.12256646901369095\n",
      "Epoch: 9000, Loss: 0.25120866298675537\n"
     ]
    }
   ],
   "source": [
    "for epoch in range(EPOCHS):\n",
    "    input_batch =  torch.rand(BATCH_SIZE, NUM_INPUTS) * (DOMAIN[1] - DOMAIN[0]) + DOMAIN[0] \n",
    "    input_batch.requires_grad_(True)\n",
    "    loss = train_step(model, input_batch) \n",
    "    if epoch % 1000 == 0:\n",
    "        print(f'Epoch: {epoch}, Loss: {loss}')\n",
    "    if loss <= TOLERANCE:\n",
    "        break\n",
    "\n",
    "clear_output()\n",
    "print(f'Terminated at epoch {epoch} with loss {loss}')"
   ]
  },
  {
   "cell_type": "code",
   "execution_count": 12,
   "metadata": {},
   "outputs": [],
   "source": [
    "def analytical_sol_fn(\n",
    "        x: torch.Tensor\n",
    ")-> torch.Tensor:\n",
    "    return (-1/2)*torch.log(1-x) + (1/2)*torch.log(1+x)\n",
    "\n",
    "x_plot = torch.linspace(DOMAIN[0], DOMAIN[1], 1000).reshape(-1, 1)\n",
    "y_pred = model(x_plot)\n",
    "y_anlt = analytical_sol_fn(x_plot)"
   ]
  },
  {
   "cell_type": "code",
   "execution_count": null,
   "metadata": {},
   "outputs": [],
   "source": [
    "plt.figure(figsize=(10, 6))\n",
    "plt.plot(x_plot.detach(), y_pred.detach(), label='Predictions')\n",
    "plt.plot(x_plot.detach(), y_anlt.detach(), label='analytical', linestyle='dashed')\n",
    "plt.xlabel('Input')\n",
    "plt.ylabel('Output')\n",
    "plt.title('Neural Network Predictions vs. Analytical Solution')\n",
    "plt.legend()\n",
    "plt.grid(True)\n",
    "plt.show()"
   ]
  },
  {
   "cell_type": "code",
   "execution_count": null,
   "metadata": {},
   "outputs": [],
   "source": []
  }
 ],
 "metadata": {
  "kernelspec": {
   "display_name": "Python 3",
   "language": "python",
   "name": "python3"
  },
  "language_info": {
   "codemirror_mode": {
    "name": "ipython",
    "version": 3
   },
   "file_extension": ".py",
   "mimetype": "text/x-python",
   "name": "python",
   "nbconvert_exporter": "python",
   "pygments_lexer": "ipython3",
   "version": "3.11.0"
  }
 },
 "nbformat": 4,
 "nbformat_minor": 2
}
