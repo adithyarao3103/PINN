{
 "cells": [
  {
   "cell_type": "markdown",
   "metadata": {},
   "source": [
    "# PINN for One Variable Integration\n",
    "\n",
    "The idea is to use the fact that \n",
    "$$\n",
    "    F(x) = \\int f(x) dx\n",
    "$$\n",
    "is the solution to the differential equation \n",
    "$$\n",
    "    \\frac{dF}{dx} - f = 0\n",
    "$$"
   ]
  },
  {
   "cell_type": "code",
   "execution_count": 1,
   "metadata": {},
   "outputs": [],
   "source": [
    "import tensorflow as tf\n",
    "import numpy as np\n",
    "import matplotlib.pyplot as plt\n"
   ]
  },
  {
   "cell_type": "markdown",
   "metadata": {},
   "source": [
    "## Defnining a general neural network class"
   ]
  },
  {
   "cell_type": "code",
   "execution_count": 2,
   "metadata": {},
   "outputs": [],
   "source": [
    "class NN(tf.keras.Model):\n",
    "    def __init__(\n",
    "            self, \n",
    "            num_inputs: int=1,\n",
    "            num_hidden_layers: int=1,\n",
    "            num_neurons: int=1,\n",
    "            activation: str = 'tanh'\n",
    "    )->None:\n",
    "        super().__init__()\n",
    "        self.num_inputs = num_inputs\n",
    "        self.num_hidden_layers = num_hidden_layers\n",
    "        self.num_neurons = num_neurons\n",
    "\n",
    "        NNLayers = [] \n",
    "        for _ in range(num_hidden_layers):\n",
    "            NNLayers.append(tf.keras.layers.Dense(units=num_neurons, activation=activation)) # the hidden layers\n",
    "        NNLayers.append(tf.keras.layers.Dense(units=1)) # the output layer\n",
    "\n",
    "        self.NNLayers = NNLayers\n",
    "\n",
    "    def call(\n",
    "            self,\n",
    "            input: tf.Tensor\n",
    "    )->tf.Tensor: # the neural network call implements the forward call, where it runs the input through the first layer, and then feeds the output of the first layer to the second layer and so on\n",
    "        output = tf.reshape(input, shape=(-1, self.num_inputs))\n",
    "        for layer in self.NNLayers:\n",
    "            output = layer(output)\n",
    "        return output\n"
   ]
  },
  {
   "cell_type": "markdown",
   "metadata": {},
   "source": [
    "## Problem specific defninition of the loss function"
   ]
  },
  {
   "cell_type": "code",
   "execution_count": 3,
   "metadata": {},
   "outputs": [],
   "source": [
    "X_BOUNDARY=0.0\n",
    "FUN_BOUNDARY=0.0\n",
    "NUM_INPUTS = 1\n",
    "DOMAIN = (-0.9, 0.9)"
   ]
  },
  {
   "cell_type": "code",
   "execution_count": 4,
   "metadata": {},
   "outputs": [],
   "source": [
    "def loss_fun(\n",
    "        model: tf.keras.Model,\n",
    "        x: tf.Tensor\n",
    ")->tf.Tensor:\n",
    "    with tf.GradientTape() as tape:\n",
    "        tape.watch(x)\n",
    "        u = model(x)\n",
    "   \n",
    "    u_x = tape.gradient(u, x)  # du/dx\n",
    "    de = u_x - 1/(1 - tf.square(x))  # the DE: u'(x) = cos(x)\n",
    "    boundary = model(tf.convert_to_tensor([X_BOUNDARY])) - tf.convert_to_tensor([FUN_BOUNDARY])\n",
    "    interior_loss = tf.reduce_mean(tf.square(de))\n",
    "    boundary_loss = tf.reduce_mean(tf.square(boundary))\n",
    "    loss = interior_loss + boundary_loss\n",
    "    return loss"
   ]
  },
  {
   "cell_type": "markdown",
   "metadata": {},
   "source": [
    "## Training the model!"
   ]
  },
  {
   "cell_type": "code",
   "execution_count": 5,
   "metadata": {},
   "outputs": [],
   "source": [
    "NUM_LAYERS = 5\n",
    "NUM_NEURONS = 5\n",
    "EPOCHS = 100000 #how many times the training step is performed\n",
    "BATCH_SIZE = 30 # how many input values are considered for each epoch\n",
    "LEARNING_RATE = 1e-3\n",
    "TOLERANCE = 1e-5"
   ]
  },
  {
   "cell_type": "code",
   "execution_count": 6,
   "metadata": {},
   "outputs": [
    {
     "name": "stdout",
     "output_type": "stream",
     "text": [
      "Epoch: 0, Loss: 2.945019006729126\n",
      "Epoch: 1000, Loss: 0.0006344903958961368\n",
      "Epoch: 2000, Loss: 0.0005947386962361634\n",
      "Epoch: 3000, Loss: 0.00029012199956923723\n",
      "Epoch: 4000, Loss: 0.0017310462426394224\n",
      "Epoch: 5000, Loss: 0.0010947107803076506\n",
      "Epoch: 6000, Loss: 0.0052262223325669765\n",
      "Epoch: 7000, Loss: 0.00031198328360915184\n",
      "Epoch: 8000, Loss: 0.0006242347881197929\n",
      "Epoch: 9000, Loss: 0.001852762303315103\n",
      "Epoch: 10000, Loss: 5.741914355894551e-05\n",
      "Epoch: 11000, Loss: 0.0006173388683237135\n",
      "Epoch: 12000, Loss: 0.00043076230213046074\n",
      "Epoch: 13000, Loss: 0.0005003094556741416\n",
      "Epoch: 14000, Loss: 0.0009041936718858778\n",
      "Epoch: 15000, Loss: 0.0015076689887791872\n",
      "Epoch: 16000, Loss: 0.0004963668761774898\n",
      "Epoch: 17000, Loss: 0.0007646961603313684\n",
      "Epoch: 18000, Loss: 0.0005300866905599833\n",
      "Epoch: 19000, Loss: 0.00243644998408854\n",
      "Epoch: 20000, Loss: 0.00046101235784590244\n",
      "Epoch: 21000, Loss: 0.0002939189726021141\n",
      "Epoch: 22000, Loss: 0.0011255365097895265\n",
      "Epoch: 23000, Loss: 0.0003034152614418417\n",
      "Epoch: 24000, Loss: 0.0006593522848561406\n",
      "Epoch: 25000, Loss: 0.0007162673282437027\n",
      "Epoch: 26000, Loss: 0.0004431883280631155\n",
      "Epoch: 27000, Loss: 0.0007830211543478072\n",
      "Epoch: 28000, Loss: 0.000512440106831491\n",
      "Epoch: 29000, Loss: 0.0004890286363661289\n",
      "Epoch: 30000, Loss: 0.0007486199610866606\n",
      "Epoch: 31000, Loss: 0.00018519448349252343\n",
      "Epoch: 32000, Loss: 0.00047122209798544645\n",
      "Epoch: 33000, Loss: 0.0005324740195646882\n",
      "Epoch: 34000, Loss: 0.003009822452440858\n",
      "Epoch: 35000, Loss: 0.0006633069133386016\n",
      "Epoch: 36000, Loss: 0.0005071221967227757\n",
      "Epoch: 37000, Loss: 0.0005330248968675733\n",
      "Epoch: 38000, Loss: 0.00027007985045202076\n",
      "Epoch: 39000, Loss: 0.0004900465719401836\n",
      "Epoch: 40000, Loss: 0.0008985420572571456\n",
      "Epoch: 41000, Loss: 0.0006035559345036745\n",
      "Epoch: 42000, Loss: 0.0006998086464591324\n",
      "Epoch: 43000, Loss: 0.001048949547111988\n",
      "Epoch: 44000, Loss: 0.00029660738073289394\n",
      "Epoch: 45000, Loss: 0.00044369560782797635\n",
      "Epoch: 46000, Loss: 0.0004628686292562634\n",
      "Epoch: 47000, Loss: 0.0007775485864840448\n",
      "Epoch: 48000, Loss: 0.00020114745711907744\n",
      "Epoch: 49000, Loss: 0.0003392325306776911\n",
      "Epoch: 50000, Loss: 0.0006630716961808503\n",
      "Epoch: 51000, Loss: 0.00025313044898211956\n",
      "Epoch: 52000, Loss: 0.00026938191149383783\n",
      "Epoch: 53000, Loss: 0.00022870807151775807\n",
      "Epoch: 54000, Loss: 0.00026594754308462143\n",
      "Epoch: 55000, Loss: 0.0005322991637513041\n",
      "Epoch: 56000, Loss: 0.0001870087580755353\n",
      "Epoch: 57000, Loss: 0.00024173574638552964\n",
      "Epoch: 58000, Loss: 0.00039870268665254116\n",
      "Epoch: 59000, Loss: 0.0005608019419014454\n",
      "Epoch: 60000, Loss: 0.0008980048587545753\n",
      "Epoch: 61000, Loss: 0.002499245572835207\n",
      "Epoch: 62000, Loss: 0.00028104244847781956\n",
      "Epoch: 63000, Loss: 0.0005331585998646915\n",
      "Epoch: 64000, Loss: 0.00027239121845923364\n",
      "Epoch: 65000, Loss: 0.0006352014606818557\n",
      "Epoch: 66000, Loss: 0.00027222547214478254\n",
      "Epoch: 67000, Loss: 0.0003514954005368054\n",
      "Epoch: 68000, Loss: 0.0003700657398439944\n",
      "Epoch: 69000, Loss: 0.00043218355858698487\n",
      "Epoch: 70000, Loss: 0.0006769156898371875\n",
      "Epoch: 71000, Loss: 0.00024463378940708935\n",
      "Epoch: 72000, Loss: 0.0006457577110268176\n",
      "Epoch: 73000, Loss: 0.00043277861550450325\n",
      "Epoch: 74000, Loss: 0.00040385182364843786\n",
      "Epoch: 75000, Loss: 0.0006197512848302722\n",
      "Epoch: 76000, Loss: 0.0007502852822653949\n",
      "Epoch: 77000, Loss: 0.0006837109103798866\n",
      "Epoch: 78000, Loss: 0.00024149223463609815\n",
      "Epoch: 79000, Loss: 0.0005876811337657273\n",
      "Epoch: 80000, Loss: 0.0004990989109501243\n",
      "Epoch: 81000, Loss: 0.00048620326560921967\n",
      "Epoch: 82000, Loss: 0.0009275288903154433\n",
      "Epoch: 83000, Loss: 0.00039339534123428166\n",
      "Epoch: 84000, Loss: 0.00033485511085018516\n",
      "Epoch: 85000, Loss: 0.0004224693402647972\n",
      "Epoch: 86000, Loss: 0.00022425880888476968\n",
      "Epoch: 87000, Loss: 0.00036420501419343054\n",
      "Epoch: 88000, Loss: 0.0015081872697919607\n",
      "Epoch: 89000, Loss: 0.0005399109213612974\n",
      "Epoch: 90000, Loss: 0.00034986017271876335\n",
      "Epoch: 91000, Loss: 0.0008090224000625312\n",
      "Epoch: 92000, Loss: 0.0004375618591438979\n",
      "Epoch: 93000, Loss: 0.0005379493231885135\n",
      "Epoch: 94000, Loss: 0.0003482316969893873\n",
      "Epoch: 95000, Loss: 0.00029113059281371534\n",
      "Epoch: 96000, Loss: 0.00029806222300976515\n",
      "Epoch: 97000, Loss: 0.0004530625883489847\n",
      "Epoch: 98000, Loss: 0.0004248347831889987\n",
      "Epoch: 99000, Loss: 0.0003746656293515116\n"
     ]
    }
   ],
   "source": [
    "model = NN(num_inputs=NUM_INPUTS, num_hidden_layers= NUM_LAYERS, num_neurons=NUM_NEURONS)\n",
    "optimizer = tf.keras.optimizers.Lion(learning_rate=LEARNING_RATE)\n",
    "\n",
    "@tf.function\n",
    "def train_step(model, input): # function for one single training step\n",
    "    with tf.GradientTape() as tape:\n",
    "        loss = loss_fun(model, input)\n",
    "\n",
    "    gradients = tape.gradient(loss, model.trainable_variables) # calculate the gradients of the loss with respect to \\theta\n",
    "    optimizer.apply_gradients(zip(gradients, model.trainable_variables)) # optimize the parameters to minimize the loss\n",
    "\n",
    "    return loss\n",
    "\n",
    "for epoch in range(EPOCHS):\n",
    "    input_batch = tf.random.uniform(shape=(BATCH_SIZE, NUM_INPUTS), minval=DOMAIN[0], maxval=DOMAIN[1], dtype=tf.float32) #randomly sample BATCH_SIZE number of points from the domain\n",
    "    loss = train_step(model, input_batch) \n",
    "    if epoch % 1000 == 0:\n",
    "        print(f'Epoch: {epoch}, Loss: {loss}')\n",
    "    if loss <= TOLERANCE:\n",
    "        print(f'Converged at epoch {epoch}')\n",
    "        break\n",
    "\n"
   ]
  },
  {
   "cell_type": "markdown",
   "metadata": {},
   "source": [
    "## Prediction and Plotting!"
   ]
  },
  {
   "cell_type": "code",
   "execution_count": 7,
   "metadata": {},
   "outputs": [],
   "source": [
    "def analytical_sol_fn(\n",
    "        x: tf.Tensor\n",
    ")-> tf.Tensor:\n",
    "    return (-1/2)*tf.math.log(1-x) + (1/2)*tf.math.log(1+x)\n",
    "\n",
    "x_plot = tf.linspace(DOMAIN[0], DOMAIN[1], 30)[:, tf.newaxis]\n",
    "y_pred = model(x_plot)\n",
    "y_anlt = analytical_sol_fn(x_plot)"
   ]
  },
  {
   "cell_type": "code",
   "execution_count": 8,
   "metadata": {},
   "outputs": [
    {
     "data": {
      "image/png": "[encoded data removed]",
      "text/plain": [
       "<Figure size 1000x600 with 1 Axes>"
      ]
     },
     "metadata": {},
     "output_type": "display_data"
    }
   ],
   "source": [
    "plt.figure(figsize=(10, 6))\n",
    "plt.plot(x_plot, y_pred, label='Predictions')\n",
    "plt.plot(x_plot, y_anlt, label='analytical', linestyle='dashed')\n",
    "plt.xlabel('Input')\n",
    "plt.ylabel('Output')\n",
    "plt.title('Neural Network Predictions vs. Analytical Solution')\n",
    "plt.legend()\n",
    "plt.grid(True)\n",
    "plt.show()"
   ]
  }
 ],
 "metadata": {
  "kernelspec": {
   "display_name": "Python 3",
   "language": "python",
   "name": "python3"
  },
  "language_info": {
   "codemirror_mode": {
    "name": "ipython",
    "version": 3
   },
   "file_extension": ".py",
   "mimetype": "text/x-python",
   "name": "python",
   "nbconvert_exporter": "python",
   "pygments_lexer": "ipython3",
   "version": "3.11.0"
  }
 },
 "nbformat": 4,
 "nbformat_minor": 2
}
