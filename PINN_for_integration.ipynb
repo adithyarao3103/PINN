{
 "cells": [
  {
   "cell_type": "markdown",
   "metadata": {},
   "source": [
    "# PINN for One Variable Integration\n",
    "\n",
    "The idea is to use the fact that \n",
    "$$\n",
    "    F(x) = \\int f(x) dx\n",
    "$$\n",
    "is the solution to the differential equation \n",
    "$$\n",
    "    \\frac{dF}{dx} - f = 0\n",
    "$$"
   ]
  },
  {
   "cell_type": "code",
   "execution_count": 1,
   "metadata": {},
   "outputs": [],
   "source": [
    "import tensorflow as tf\n",
    "import numpy as np\n",
    "import matplotlib.pyplot as plt\n"
   ]
  },
  {
   "cell_type": "markdown",
   "metadata": {},
   "source": [
    "## Defnining a general neural network class"
   ]
  },
  {
   "cell_type": "code",
   "execution_count": 2,
   "metadata": {},
   "outputs": [],
   "source": [
    "class NN(tf.keras.Model):\n",
    "    def __init__(\n",
    "            self, \n",
    "            num_inputs: int=1,\n",
    "            num_hidden_layers: int=1,\n",
    "            num_neurons: int=1,\n",
    "            activation: str = 'tanh'\n",
    "    )->None:\n",
    "        super().__init__()\n",
    "        self.num_inputs = num_inputs\n",
    "        self.num_hidden_layers = num_hidden_layers\n",
    "        self.num_neurons = num_neurons\n",
    "\n",
    "        NNLayers = [] \n",
    "        for _ in range(num_hidden_layers):\n",
    "            NNLayers.append(tf.keras.layers.Dense(units=num_neurons, activation=activation)) # the hidden layers\n",
    "        NNLayers.append(tf.keras.layers.Dense(units=1)) # the output layer\n",
    "\n",
    "        self.NNLayers = NNLayers\n",
    "\n",
    "    def call(\n",
    "            self,\n",
    "            input: tf.Tensor\n",
    "    )->tf.Tensor: # the neural network call implements the forward call, where it runs the input through the first layer, and then feeds the output of the first layer to the second layer and so on\n",
    "        output = tf.reshape(input, shape=(-1, self.num_inputs))\n",
    "        for layer in self.NNLayers:\n",
    "            output = layer(output)\n",
    "        return output\n"
   ]
  },
  {
   "cell_type": "markdown",
   "metadata": {},
   "source": [
    "## Problem specific defninition of the loss function"
   ]
  },
  {
   "cell_type": "code",
   "execution_count": 3,
   "metadata": {},
   "outputs": [],
   "source": [
    "X_BOUNDARY=0.0\n",
    "FUN_BOUNDARY=0.0\n",
    "NUM_INPUTS = 1\n",
    "DOMAIN = (-0.9, 0.9)"
   ]
  },
  {
   "cell_type": "code",
   "execution_count": 4,
   "metadata": {},
   "outputs": [],
   "source": [
    "def loss_fun(\n",
    "        model: tf.keras.Model,\n",
    "        x: tf.Tensor\n",
    ")->tf.Tensor:\n",
    "    with tf.GradientTape() as tape:\n",
    "        tape.watch(x)\n",
    "        u = model(x)\n",
    "   \n",
    "    u_x = tape.gradient(u, x)  # du/dx\n",
    "    de = u_x - 1/(1 - tf.square(x))  # the DE: u'(x) = cos(x)\n",
    "    boundary = model(tf.convert_to_tensor([X_BOUNDARY])) - tf.convert_to_tensor([FUN_BOUNDARY])\n",
    "    interior_loss = tf.reduce_mean(tf.square(de))\n",
    "    boundary_loss = tf.square(boundary)\n",
    "    loss = interior_loss + boundary_loss\n",
    "    return loss"
   ]
  },
  {
   "cell_type": "markdown",
   "metadata": {},
   "source": [
    "## Training the model!"
   ]
  },
  {
   "cell_type": "code",
   "execution_count": 5,
   "metadata": {},
   "outputs": [],
   "source": [
    "NUM_LAYERS = 5\n",
    "NUM_NEURONS = 5\n",
    "EPOCHS = 5000 #how many times the training step is performed\n",
    "BATCH_SIZE = 30 # how many input values are considered for each epoch\n",
    "LEARNING_RATE = 1e-3\n",
    "TOLERANCE = 5e-5"
   ]
  },
  {
   "cell_type": "code",
   "execution_count": 6,
   "metadata": {},
   "outputs": [
    {
     "name": "stdout",
     "output_type": "stream",
     "text": [
      "Epoch: 0, Loss: 2.1306443214416504\n",
      "Epoch: 50, Loss: 1.808396816253662\n",
      "Epoch: 100, Loss: 2.9594714641571045\n",
      "Epoch: 150, Loss: 1.1185665130615234\n",
      "Epoch: 200, Loss: 0.6930079460144043\n",
      "Epoch: 250, Loss: 0.22040998935699463\n",
      "Epoch: 300, Loss: 0.24096927046775818\n",
      "Epoch: 350, Loss: 0.5245333313941956\n",
      "Epoch: 400, Loss: 0.3496535122394562\n",
      "Epoch: 450, Loss: 0.1571008265018463\n",
      "Epoch: 500, Loss: 0.1699570268392563\n",
      "Epoch: 550, Loss: 0.07250463962554932\n",
      "Epoch: 600, Loss: 0.04182001203298569\n",
      "Epoch: 650, Loss: 0.0451308898627758\n",
      "Epoch: 700, Loss: 0.03698541224002838\n",
      "Epoch: 750, Loss: 0.02250296249985695\n",
      "Epoch: 800, Loss: 0.014313256368041039\n",
      "Epoch: 850, Loss: 0.005614970810711384\n",
      "Epoch: 900, Loss: 0.014344360679388046\n",
      "Epoch: 950, Loss: 0.004903193097561598\n",
      "Epoch: 1000, Loss: 0.010387483984231949\n",
      "Epoch: 1050, Loss: 0.007537481840699911\n",
      "Epoch: 1100, Loss: 0.00494305370375514\n",
      "Epoch: 1150, Loss: 0.0014652475947514176\n",
      "Epoch: 1200, Loss: 0.003509491216391325\n",
      "Epoch: 1250, Loss: 0.011465097777545452\n",
      "Epoch: 1300, Loss: 0.0036254310980439186\n",
      "Epoch: 1350, Loss: 0.006974129471927881\n",
      "Epoch: 1400, Loss: 0.00041101512033492327\n",
      "Epoch: 1450, Loss: 0.014184398576617241\n",
      "Epoch: 1500, Loss: 0.0017820429056882858\n",
      "Epoch: 1550, Loss: 0.00041018816409632564\n",
      "Epoch: 1600, Loss: 0.0012408284237608314\n",
      "Epoch: 1650, Loss: 0.005543988198041916\n",
      "Epoch: 1700, Loss: 0.0022050482220947742\n",
      "Epoch: 1750, Loss: 0.0032628460321575403\n",
      "Epoch: 1800, Loss: 0.001456454978324473\n",
      "Epoch: 1850, Loss: 0.001283107092604041\n",
      "Epoch: 1900, Loss: 0.0008025845745578408\n",
      "Epoch: 1950, Loss: 0.0010295436950400472\n",
      "Epoch: 2000, Loss: 0.0036842371337115765\n",
      "Epoch: 2050, Loss: 0.018822191283106804\n",
      "Epoch: 2100, Loss: 0.00397846894338727\n",
      "Epoch: 2150, Loss: 0.004581875167787075\n",
      "Epoch: 2200, Loss: 0.001493043382652104\n",
      "Epoch: 2250, Loss: 0.002677050419151783\n",
      "Epoch: 2300, Loss: 0.0010694589000195265\n",
      "Epoch: 2350, Loss: 0.0017635967815294862\n",
      "Epoch: 2400, Loss: 0.0031840037554502487\n",
      "Epoch: 2450, Loss: 0.0014544097939506173\n",
      "Epoch: 2500, Loss: 0.0036225439980626106\n",
      "Epoch: 2550, Loss: 0.006221734452992678\n",
      "Epoch: 2600, Loss: 0.0020271867979317904\n",
      "Epoch: 2650, Loss: 0.0018217825563624501\n",
      "Epoch: 2700, Loss: 0.00916464626789093\n",
      "Epoch: 2750, Loss: 0.003148527117446065\n",
      "Epoch: 2800, Loss: 0.0015756768407300115\n",
      "Epoch: 2850, Loss: 0.0008110736962407827\n",
      "Epoch: 2900, Loss: 0.0069285170175135136\n",
      "Epoch: 2950, Loss: 0.0018165612127631903\n",
      "Epoch: 3000, Loss: 0.0006969522219151258\n",
      "Epoch: 3050, Loss: 0.0006787836900912225\n",
      "Epoch: 3100, Loss: 0.004493273328989744\n",
      "Epoch: 3150, Loss: 0.0011186260962858796\n",
      "Epoch: 3200, Loss: 0.0031579723581671715\n",
      "Epoch: 3250, Loss: 0.0009525996865704656\n",
      "Epoch: 3300, Loss: 0.00227175559848547\n",
      "Epoch: 3350, Loss: 0.001171197509393096\n",
      "Epoch: 3400, Loss: 0.004279894754290581\n",
      "Epoch: 3450, Loss: 0.001668998273089528\n",
      "Epoch: 3500, Loss: 0.0017272832337766886\n",
      "Epoch: 3550, Loss: 0.009063568897545338\n",
      "Epoch: 3600, Loss: 0.0009049397194758058\n",
      "Epoch: 3650, Loss: 0.00033793257898651063\n",
      "Epoch: 3700, Loss: 0.005854198243469\n",
      "Epoch: 3750, Loss: 0.00905766710639\n",
      "Epoch: 3800, Loss: 0.0017642048187553883\n",
      "Epoch: 3850, Loss: 0.0010212712222710252\n",
      "Epoch: 3900, Loss: 0.0012158905155956745\n",
      "Epoch: 3950, Loss: 0.0005882402183488011\n",
      "Epoch: 4000, Loss: 0.001162025728262961\n",
      "Epoch: 4050, Loss: 0.0008689120877534151\n",
      "Epoch: 4100, Loss: 0.0008620094740763307\n",
      "Epoch: 4150, Loss: 0.0064834351651370525\n",
      "Epoch: 4200, Loss: 0.0011980141280218959\n",
      "Epoch: 4250, Loss: 0.006926529109477997\n",
      "Epoch: 4300, Loss: 0.0035350301768630743\n",
      "Epoch: 4350, Loss: 0.0006440221914090216\n",
      "Epoch: 4400, Loss: 0.00031067722011357546\n",
      "Epoch: 4450, Loss: 0.0007056599133647978\n",
      "Epoch: 4500, Loss: 0.0017380054341629148\n",
      "Epoch: 4550, Loss: 0.0016112634912133217\n",
      "Epoch: 4600, Loss: 0.000701659475453198\n",
      "Epoch: 4650, Loss: 0.000733562745153904\n",
      "Epoch: 4700, Loss: 0.0009217852493748069\n",
      "Epoch: 4750, Loss: 0.0018449589842930436\n",
      "Epoch: 4800, Loss: 0.001225000829435885\n",
      "Epoch: 4850, Loss: 0.0008909422904253006\n",
      "Epoch: 4900, Loss: 0.009984183125197887\n",
      "Epoch: 4950, Loss: 0.0005969224730506539\n"
     ]
    }
   ],
   "source": [
    "model = NN(num_inputs=NUM_INPUTS, num_hidden_layers= NUM_LAYERS, num_neurons=NUM_NEURONS)\n",
    "optimizer = tf.keras.optimizers.Lion(learning_rate=LEARNING_RATE)\n",
    "\n",
    "def train_step(model, input): # function for one single training step\n",
    "    with tf.GradientTape() as tape:\n",
    "        loss = loss_fun(model, input)\n",
    "\n",
    "    gradients = tape.gradient(loss, model.trainable_variables) # calculate the gradients of the loss with respect to \\theta\n",
    "    optimizer.apply_gradients(zip(gradients, model.trainable_variables)) # optimize the parameters to minimize the loss\n",
    "\n",
    "    return loss\n",
    "\n",
    "for epoch in range(EPOCHS):\n",
    "    input_batch = tf.random.uniform(shape=(BATCH_SIZE, NUM_INPUTS), minval=DOMAIN[0], maxval=DOMAIN[1], dtype=tf.float32) #randomly sample BATCH_SIZE number of points from the domain\n",
    "    loss = train_step(model, input_batch) \n",
    "    if epoch % 50 == 0:\n",
    "        print(f'Epoch: {epoch}, Loss: {loss[0][0]}')\n",
    "    if loss[0][0] <= TOLERANCE:\n",
    "        print(f'Converged at epoch {epoch}')\n",
    "        break\n",
    "\n"
   ]
  },
  {
   "cell_type": "markdown",
   "metadata": {},
   "source": [
    "## Prediction and Plotting!"
   ]
  },
  {
   "cell_type": "code",
   "execution_count": 7,
   "metadata": {},
   "outputs": [],
   "source": [
    "def analytical_sol_fn(\n",
    "        x: tf.Tensor\n",
    ")-> tf.Tensor:\n",
    "    return (-1/2)*tf.math.log(1-x) + (1/2)*tf.math.log(1+x)\n",
    "\n",
    "x_plot = tf.linspace(DOMAIN[0], DOMAIN[1], 30)[:, tf.newaxis]\n",
    "y_pred = model(x_plot)\n",
    "y_anlt = analytical_sol_fn(x_plot)"
   ]
  },
  {
   "cell_type": "code",
   "execution_count": 8,
   "metadata": {},
   "outputs": [
    {
     "data": {
      "image/png": "[encoded data removed]",
      "text/plain": [
       "<Figure size 1000x600 with 1 Axes>"
      ]
     },
     "metadata": {},
     "output_type": "display_data"
    }
   ],
   "source": [
    "plt.figure(figsize=(10, 6))\n",
    "plt.plot(x_plot, y_pred, label='Predictions')\n",
    "plt.plot(x_plot, y_anlt, label='analytical', linestyle='dashed')\n",
    "plt.xlabel('Input')\n",
    "plt.ylabel('Output')\n",
    "plt.title('Neural Network Predictions vs. Analytical Solution')\n",
    "plt.legend()\n",
    "plt.grid(True)\n",
    "plt.show()"
   ]
  }
 ],
 "metadata": {
  "kernelspec": {
   "display_name": "Python 3",
   "language": "python",
   "name": "python3"
  },
  "language_info": {
   "codemirror_mode": {
    "name": "ipython",
    "version": 3
   },
   "file_extension": ".py",
   "mimetype": "text/x-python",
   "name": "python",
   "nbconvert_exporter": "python",
   "pygments_lexer": "ipython3",
   "version": "3.11.0"
  }
 },
 "nbformat": 4,
 "nbformat_minor": 2
}
