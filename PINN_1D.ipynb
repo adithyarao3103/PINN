{
 "cells": [
  {
   "cell_type": "markdown",
   "metadata": {},
   "source": [
    "# PINN for DEs\n",
    "\n",
    "This notebook implements Physics Informed Neural Network (PINN) to solve the logistic equation \n",
    "$$\n",
    "\\frac{df}{dx} - R\\cdot f\\cdot (1-f) = 0\n",
    "$$\n",
    "\n",
    "The idea is to represent the function $f$ by a neural network $f_\\theta$ specified by the parameters $\\theta$ and then optimize it to minimize the square of the DE above, i.e. to reach the function where the above equation is satisfied for the given domain. "
   ]
  },
  {
   "cell_type": "code",
   "execution_count": 1,
   "metadata": {},
   "outputs": [],
   "source": [
    "import tensorflow as tf\n",
    "import numpy as np\n",
    "import matplotlib.pyplot as plt\n"
   ]
  },
  {
   "cell_type": "markdown",
   "metadata": {},
   "source": [
    "## Defnining a general neural network class"
   ]
  },
  {
   "cell_type": "code",
   "execution_count": 2,
   "metadata": {},
   "outputs": [],
   "source": [
    "class NN(tf.keras.Model):\n",
    "    def __init__(\n",
    "            self, \n",
    "            num_inputs: int=1,\n",
    "            num_hidden_layers: int=1,\n",
    "            num_neurons: int=1,\n",
    "            activation: str = 'tanh'\n",
    "    )->None:\n",
    "        super().__init__()\n",
    "        self.num_inputs = num_inputs\n",
    "        self.num_hidden_layers = num_hidden_layers\n",
    "        self.num_neurons = num_neurons\n",
    "\n",
    "        NNLayers = [] \n",
    "        for _ in range(num_hidden_layers):\n",
    "            NNLayers.append(tf.keras.layers.Dense(units=num_neurons, activation=activation)) # the hidden layers\n",
    "        NNLayers.append(tf.keras.layers.Dense(units=1)) # the output layer\n",
    "\n",
    "        self.NNLayers = NNLayers\n",
    "\n",
    "    def call(\n",
    "            self,\n",
    "            input: tf.Tensor\n",
    "    )->tf.Tensor: # the neural network call implements the forward call, where it runs the input through the first layer, and then feeds the output of the first layer to the second layer and so on\n",
    "        output = tf.reshape(input, shape=(-1, self.num_inputs))\n",
    "        for layer in self.NNLayers:\n",
    "            output = layer(output)\n",
    "        return output\n"
   ]
  },
  {
   "cell_type": "markdown",
   "metadata": {},
   "source": [
    "## Problem specific defninition of the loss function"
   ]
  },
  {
   "cell_type": "code",
   "execution_count": 3,
   "metadata": {},
   "outputs": [],
   "source": [
    "R = 1.0\n",
    "X_BOUNDARY=0.0\n",
    "FUN_BOUNDARY=0.5\n",
    "NUM_INPUTS = 1\n",
    "DOMAIN = (-5, 5)"
   ]
  },
  {
   "cell_type": "code",
   "execution_count": 4,
   "metadata": {},
   "outputs": [],
   "source": [
    "def loss_fun(\n",
    "        model: tf.keras.Model,\n",
    "        x: tf.Tensor\n",
    ")->tf.Tensor:\n",
    "    with tf.GradientTape() as tape: # required in order to calculate the derivatives\n",
    "        tape.watch(x)\n",
    "        u = model(x)\n",
    "    \n",
    "    u_x = tape.gradient(u, x) # df/dx\n",
    "\n",
    "    pde = u_x - R*u*(1.0 - u) # the PDE \n",
    "    boundary = model(tf.convert_to_tensor([X_BOUNDARY])) - tf.convert_to_tensor([FUN_BOUNDARY]) # boundary condition f_\\theta (X_BOUNDARY) - F(X_BOUNDARY) = 0\n",
    "\n",
    "    interior_loss = tf.reduce_mean(tf.square(pde)) # mean square of the PDE forms the PDE loss\n",
    "    boundary_loss = tf.square(boundary) # square of the boundary term forms the boundary loss\n",
    "\n",
    "    loss = interior_loss + boundary_loss\n",
    "\n",
    "    return loss"
   ]
  },
  {
   "cell_type": "markdown",
   "metadata": {},
   "source": [
    "## Training the model!"
   ]
  },
  {
   "cell_type": "code",
   "execution_count": 5,
   "metadata": {},
   "outputs": [],
   "source": [
    "NUM_LAYERS = 5\n",
    "NUM_NEURONS = 5\n",
    "EPOCHS = 10000 #how many times the training step is performed\n",
    "BATCH_SIZE = 30 # how many input values are considered for each epoch\n",
    "LEARNING_RATE = 5e-3\n",
    "TOLERANCE = 5e-6"
   ]
  },
  {
   "cell_type": "code",
   "execution_count": 6,
   "metadata": {},
   "outputs": [
    {
     "name": "stdout",
     "output_type": "stream",
     "text": [
      "Epoch: 0, Loss: 0.3267291784286499\n",
      "Epoch: 10, Loss: 0.06241393834352493\n",
      "Epoch: 20, Loss: 0.06593126058578491\n",
      "Epoch: 30, Loss: 0.04345840588212013\n",
      "Epoch: 40, Loss: 0.027782799676060677\n",
      "Epoch: 50, Loss: 0.022613495588302612\n",
      "Epoch: 60, Loss: 0.019648978486657143\n",
      "Epoch: 70, Loss: 0.009683259762823582\n",
      "Epoch: 80, Loss: 0.003251955844461918\n",
      "Epoch: 90, Loss: 0.0005685655050911009\n",
      "Epoch: 100, Loss: 0.00028339202981442213\n",
      "Epoch: 110, Loss: 0.00010509743151487783\n",
      "Epoch: 120, Loss: 0.0002583304012659937\n",
      "Epoch: 130, Loss: 0.0003712830657605082\n",
      "Epoch: 140, Loss: 0.00021431816276162863\n",
      "Epoch: 150, Loss: 0.00012960638559889048\n",
      "Epoch: 160, Loss: 0.00015843652363400906\n",
      "Epoch: 170, Loss: 0.00022466311929747462\n",
      "Epoch: 180, Loss: 8.341222564922646e-05\n",
      "Epoch: 190, Loss: 7.551797170890495e-05\n",
      "Epoch: 200, Loss: 0.00012751280155498534\n",
      "Epoch: 210, Loss: 0.00014878921501804143\n",
      "Epoch: 220, Loss: 0.00013841579493600875\n",
      "Epoch: 230, Loss: 5.0251936045242473e-05\n",
      "Epoch: 240, Loss: 0.00010750299406936392\n",
      "Epoch: 250, Loss: 0.000102902231446933\n",
      "Epoch: 260, Loss: 6.030241638654843e-05\n",
      "Epoch: 270, Loss: 8.228704245993868e-05\n",
      "Epoch: 280, Loss: 6.464216858148575e-05\n",
      "Epoch: 290, Loss: 3.411393481655978e-05\n",
      "Epoch: 300, Loss: 8.401972445426509e-05\n",
      "Epoch: 310, Loss: 7.357796857832e-05\n",
      "Epoch: 320, Loss: 3.7824309401912615e-05\n",
      "Epoch: 330, Loss: 2.7821039111586288e-05\n",
      "Epoch: 340, Loss: 3.0902949220035225e-05\n",
      "Epoch: 350, Loss: 3.193760494468734e-05\n",
      "Epoch: 360, Loss: 4.0717306546866894e-05\n",
      "Epoch: 370, Loss: 3.353774445713498e-05\n",
      "Epoch: 380, Loss: 2.9965176508994773e-05\n",
      "Epoch: 390, Loss: 3.095249485340901e-05\n",
      "Epoch: 400, Loss: 1.656080348766409e-05\n",
      "Epoch: 410, Loss: 1.4846149497316219e-05\n",
      "Epoch: 420, Loss: 3.3905536838574335e-05\n",
      "Epoch: 430, Loss: 2.2434949642047286e-05\n",
      "Epoch: 440, Loss: 1.5174513464444317e-05\n",
      "Epoch: 450, Loss: 7.886620551289525e-06\n",
      "Epoch: 460, Loss: 1.6982638044282794e-05\n",
      "Epoch: 470, Loss: 1.963144495675806e-05\n",
      "Epoch: 480, Loss: 1.5468860510736704e-05\n",
      "Epoch: 490, Loss: 1.2761192010657396e-05\n",
      "Epoch: 500, Loss: 1.933826024469454e-05\n",
      "Epoch: 510, Loss: 1.1834563338197768e-05\n",
      "Epoch: 520, Loss: 8.591123332735151e-06\n",
      "Converged at epoch 528\n"
     ]
    }
   ],
   "source": [
    "model = NN(num_inputs=NUM_INPUTS, num_hidden_layers= NUM_LAYERS, num_neurons=NUM_NEURONS)\n",
    "optimizer = tf.keras.optimizers.Adam(learning_rate=LEARNING_RATE)\n",
    "\n",
    "@tf.function\n",
    "def train_step(model, input): # function for one single training step\n",
    "    with tf.GradientTape() as tape:\n",
    "        loss = loss_fun(model, input)\n",
    "\n",
    "    gradients = tape.gradient(loss, model.trainable_variables) # calculate the gradients of the loss with respect to \\theta\n",
    "    optimizer.apply_gradients(zip(gradients, model.trainable_variables)) # optimize the parameters to minimize the loss\n",
    "\n",
    "    return loss\n",
    "\n",
    "for epoch in range(EPOCHS):\n",
    "    input_batch = tf.keras.random.uniform(shape=(BATCH_SIZE, NUM_INPUTS), minval=DOMAIN[0], maxval=DOMAIN[1], dtype=tf.float32) #randomly sample BATCH_SIZE number of points from the domain\n",
    "    loss = train_step(model, input_batch) # run the train step for the given batch\n",
    "    if epoch % 10 == 0:\n",
    "        print(f'Epoch: {epoch}, Loss: {loss[0][0]}')\n",
    "    if loss[0][0] <= TOLERANCE:\n",
    "        print(f'Converged at epoch {epoch}')\n",
    "        break\n",
    "\n"
   ]
  },
  {
   "cell_type": "markdown",
   "metadata": {},
   "source": [
    "## Prediction and Plotting!"
   ]
  },
  {
   "cell_type": "code",
   "execution_count": 7,
   "metadata": {},
   "outputs": [],
   "source": [
    "def analytical_sol_fn(\n",
    "        x: tf.Tensor\n",
    ")-> tf.Tensor:\n",
    "    return 1.0 / (1.0 + (1.0/FUN_BOUNDARY - 1.0) * tf.exp(-R * x))\n",
    "\n",
    "x_plot = tf.linspace(DOMAIN[0], DOMAIN[1], 1000)[:, tf.newaxis]\n",
    "y_pred = model(x_plot)\n",
    "y_anlt = analytical_sol_fn(x_plot)"
   ]
  },
  {
   "cell_type": "code",
   "execution_count": 8,
   "metadata": {},
   "outputs": [
    {
     "data": {
      "image/png": "[encoded data removed]",
      "text/plain": [
       "<Figure size 1000x600 with 1 Axes>"
      ]
     },
     "metadata": {},
     "output_type": "display_data"
    }
   ],
   "source": [
    "plt.figure(figsize=(10, 6))\n",
    "plt.plot(x_plot, y_pred, label='Predictions')\n",
    "plt.plot(x_plot, y_anlt, label='analytical', linestyle='dashed')\n",
    "plt.xlabel('Input')\n",
    "plt.ylabel('Output')\n",
    "plt.title('Neural Network Predictions vs. Analytical Solution')\n",
    "plt.legend()\n",
    "plt.grid(True)\n",
    "plt.show()"
   ]
  }
 ],
 "metadata": {
  "kernelspec": {
   "display_name": "Python 3",
   "language": "python",
   "name": "python3"
  },
  "language_info": {
   "codemirror_mode": {
    "name": "ipython",
    "version": 3
   },
   "file_extension": ".py",
   "mimetype": "text/x-python",
   "name": "python",
   "nbconvert_exporter": "python",
   "pygments_lexer": "ipython3",
   "version": "3.11.0"
  }
 },
 "nbformat": 4,
 "nbformat_minor": 2
}
