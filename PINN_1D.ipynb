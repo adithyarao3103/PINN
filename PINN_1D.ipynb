{
 "cells": [
  {
   "cell_type": "markdown",
   "metadata": {},
   "source": [
    "# PINN for DEs\n",
    "\n",
    "This notebook implements Physics Informed Neural Network (PINN) to solve the logistic equation \n",
    "$$\n",
    "\\frac{df}{dx} - R\\cdot f\\cdot (1-f) = 0\n",
    "$$\n",
    "\n",
    "The idea is to represent the function $f$ by a neural network $f_\\theta$ specified by the parameters $\\theta$ and then optimize it to minimize the square of the DE above, i.e. to reach the function where the above equation is satisfied for the given domain. "
   ]
  },
  {
   "cell_type": "code",
   "execution_count": 1,
   "metadata": {},
   "outputs": [],
   "source": [
    "import tensorflow as tf\n",
    "import numpy as np\n",
    "import matplotlib.pyplot as plt\n"
   ]
  },
  {
   "cell_type": "markdown",
   "metadata": {},
   "source": [
    "## Defnining a general neural network class"
   ]
  },
  {
   "cell_type": "code",
   "execution_count": 2,
   "metadata": {},
   "outputs": [],
   "source": [
    "class NN(tf.keras.Model):\n",
    "    def __init__(\n",
    "            self, \n",
    "            num_inputs: int=1,\n",
    "            num_hidden_layers: int=1,\n",
    "            num_neurons: int=1,\n",
    "            activation: str = 'tanh'\n",
    "    )->None:\n",
    "        super().__init__()\n",
    "        self.num_inputs = num_inputs\n",
    "        self.num_hidden_layers = num_hidden_layers\n",
    "        self.num_neurons = num_neurons\n",
    "\n",
    "        NNLayers = [] \n",
    "        for _ in range(num_hidden_layers):\n",
    "            NNLayers.append(tf.keras.layers.Dense(units=num_neurons, activation=activation)) # the hidden layers\n",
    "        NNLayers.append(tf.keras.layers.Dense(units=1)) # the output layer\n",
    "\n",
    "        self.NNLayers = NNLayers\n",
    "\n",
    "    def call(\n",
    "            self,\n",
    "            input: tf.Tensor\n",
    "    )->tf.Tensor: # the neural network call implements the forward call, where it runs the input through the first layer, and then feeds the output of the first layer to the second layer and so on\n",
    "        output = tf.reshape(input, shape=(-1, self.num_inputs))\n",
    "        for layer in self.NNLayers:\n",
    "            output = layer(output)\n",
    "        return output\n"
   ]
  },
  {
   "cell_type": "markdown",
   "metadata": {},
   "source": [
    "## Problem specific defninition of the loss function"
   ]
  },
  {
   "cell_type": "code",
   "execution_count": 3,
   "metadata": {},
   "outputs": [],
   "source": [
    "R = 1.0\n",
    "X_BOUNDARY=0.0\n",
    "FUN_BOUNDARY=0.5\n",
    "NUM_INPUTS = 1\n",
    "DOMAIN = (-5, 5)"
   ]
  },
  {
   "cell_type": "code",
   "execution_count": 4,
   "metadata": {},
   "outputs": [],
   "source": [
    "def loss_fun(\n",
    "        model: tf.keras.Model,\n",
    "        x: tf.Tensor\n",
    ")->tf.Tensor:\n",
    "    with tf.GradientTape() as tape: # required in order to calculate the derivatives\n",
    "        tape.watch(x)\n",
    "        u = model(x)\n",
    "    \n",
    "    u_x = tape.gradient(u, x) # df/dx\n",
    "\n",
    "    pde = u_x - R*u*(1.0 - u) # the PDE \n",
    "    boundary = model(tf.convert_to_tensor([X_BOUNDARY])) - tf.convert_to_tensor([FUN_BOUNDARY]) # boundary condition f_\\theta (X_BOUNDARY) - F(X_BOUNDARY) = 0\n",
    "\n",
    "    interior_loss = tf.reduce_mean(tf.square(pde)) # mean square of the PDE forms the PDE loss\n",
    "    boundary_loss = tf.reduce_mean(tf.square(boundary)) # square of the boundary term forms the boundary loss\n",
    "\n",
    "    loss = interior_loss + boundary_loss\n",
    "\n",
    "    return loss"
   ]
  },
  {
   "cell_type": "markdown",
   "metadata": {},
   "source": [
    "## Training the model!"
   ]
  },
  {
   "cell_type": "code",
   "execution_count": 5,
   "metadata": {},
   "outputs": [],
   "source": [
    "NUM_LAYERS = 5\n",
    "NUM_NEURONS = 5\n",
    "EPOCHS = 10000 #how many times the training step is performed\n",
    "BATCH_SIZE = 30 # how many input values are considered for each epoch\n",
    "LEARNING_RATE = 5e-3\n",
    "TOLERANCE = 5e-6"
   ]
  },
  {
   "cell_type": "code",
   "execution_count": 6,
   "metadata": {},
   "outputs": [
    {
     "name": "stdout",
     "output_type": "stream",
     "text": [
      "Epoch: 0, Loss: 2.216325283050537\n",
      "Epoch: 10, Loss: 0.05323706939816475\n",
      "Epoch: 20, Loss: 0.08423192799091339\n",
      "Epoch: 30, Loss: 0.08004418760538101\n",
      "Epoch: 40, Loss: 0.06991958618164062\n",
      "Epoch: 50, Loss: 0.07968003302812576\n",
      "Epoch: 60, Loss: 0.06682237237691879\n",
      "Epoch: 70, Loss: 0.08025175333023071\n",
      "Epoch: 80, Loss: 0.0755140483379364\n",
      "Epoch: 90, Loss: 0.06839380413293839\n",
      "Epoch: 100, Loss: 0.07297784090042114\n",
      "Epoch: 110, Loss: 0.06567288935184479\n",
      "Epoch: 120, Loss: 0.028935683891177177\n",
      "Epoch: 130, Loss: 0.01955256797373295\n",
      "Epoch: 140, Loss: 0.014042521826922894\n",
      "Epoch: 150, Loss: 0.004257608205080032\n",
      "Epoch: 160, Loss: 0.0024916327092796564\n",
      "Epoch: 170, Loss: 0.0023334918078035116\n",
      "Epoch: 180, Loss: 0.0011079724645242095\n",
      "Epoch: 190, Loss: 0.0007128813886083663\n",
      "Epoch: 200, Loss: 0.00043696595821529627\n",
      "Epoch: 210, Loss: 0.00040831987280398607\n",
      "Epoch: 220, Loss: 0.0003393338993191719\n",
      "Epoch: 230, Loss: 0.0003671919403132051\n",
      "Epoch: 240, Loss: 0.00023512747429776937\n",
      "Epoch: 250, Loss: 0.00015054279356263578\n",
      "Epoch: 260, Loss: 0.00021650901180692017\n",
      "Epoch: 270, Loss: 0.00010649737669155002\n",
      "Epoch: 280, Loss: 0.00011366633407305926\n",
      "Epoch: 290, Loss: 9.097856673179194e-05\n",
      "Epoch: 300, Loss: 9.706499986350536e-05\n",
      "Epoch: 310, Loss: 4.0398601413471624e-05\n",
      "Epoch: 320, Loss: 5.8072015235666186e-05\n",
      "Epoch: 330, Loss: 3.961565744248219e-05\n",
      "Epoch: 340, Loss: 3.188171103829518e-05\n",
      "Epoch: 350, Loss: 4.930226714350283e-05\n",
      "Epoch: 360, Loss: 3.944261698052287e-05\n",
      "Epoch: 370, Loss: 2.5849287339951843e-05\n",
      "Epoch: 380, Loss: 5.288386091706343e-05\n",
      "Epoch: 390, Loss: 5.117679029353894e-05\n",
      "Epoch: 400, Loss: 3.569065302144736e-05\n",
      "Epoch: 410, Loss: 2.2040434487280436e-05\n",
      "Epoch: 420, Loss: 2.824191869876813e-05\n",
      "Epoch: 430, Loss: 2.4163349735317752e-05\n",
      "Epoch: 440, Loss: 2.489160578988958e-05\n",
      "Epoch: 450, Loss: 2.204644442826975e-05\n",
      "Epoch: 460, Loss: 2.7008163669961505e-05\n",
      "Epoch: 470, Loss: 3.2599808037048206e-05\n",
      "Epoch: 480, Loss: 2.2297477698884904e-05\n",
      "Epoch: 490, Loss: 2.2423764676204883e-05\n",
      "Epoch: 500, Loss: 2.7595942810876295e-05\n",
      "Epoch: 510, Loss: 1.8701020962907933e-05\n",
      "Epoch: 520, Loss: 2.6322641133447178e-05\n",
      "Epoch: 530, Loss: 2.203941585321445e-05\n",
      "Epoch: 540, Loss: 1.876595342764631e-05\n",
      "Epoch: 550, Loss: 2.4654718799865805e-05\n",
      "Epoch: 560, Loss: 2.476837471476756e-05\n",
      "Epoch: 570, Loss: 2.0715862774522975e-05\n",
      "Epoch: 580, Loss: 1.736884041747544e-05\n",
      "Epoch: 590, Loss: 1.8729544535744935e-05\n",
      "Epoch: 600, Loss: 2.1425388695206493e-05\n",
      "Epoch: 610, Loss: 1.440225969417952e-05\n",
      "Epoch: 620, Loss: 1.618083297216799e-05\n",
      "Epoch: 630, Loss: 1.7107178791775368e-05\n",
      "Epoch: 640, Loss: 1.6959185813902877e-05\n",
      "Epoch: 650, Loss: 2.2633785192738287e-05\n",
      "Epoch: 660, Loss: 1.2872417755716015e-05\n",
      "Epoch: 670, Loss: 1.6837220755405724e-05\n",
      "Epoch: 680, Loss: 1.3310196663951501e-05\n",
      "Epoch: 690, Loss: 1.5588535461574793e-05\n",
      "Epoch: 700, Loss: 1.735606747388374e-05\n",
      "Epoch: 710, Loss: 1.3993194443173707e-05\n",
      "Epoch: 720, Loss: 1.5714158507762477e-05\n",
      "Epoch: 730, Loss: 1.2525806596386246e-05\n",
      "Epoch: 740, Loss: 2.0056366338394582e-05\n",
      "Epoch: 750, Loss: 1.639744186832104e-05\n",
      "Epoch: 760, Loss: 2.347090412513353e-05\n",
      "Epoch: 770, Loss: 1.2381443411868531e-05\n",
      "Epoch: 780, Loss: 1.2951791177329142e-05\n",
      "Epoch: 790, Loss: 1.1303734936518595e-05\n",
      "Epoch: 800, Loss: 1.0443754945299588e-05\n",
      "Epoch: 810, Loss: 1.652296668908093e-05\n",
      "Epoch: 820, Loss: 1.836894080042839e-05\n",
      "Epoch: 830, Loss: 1.5251005606842227e-05\n",
      "Epoch: 840, Loss: 1.1128768164780922e-05\n",
      "Epoch: 850, Loss: 1.3319837307790294e-05\n",
      "Epoch: 860, Loss: 1.0821660907822661e-05\n",
      "Epoch: 870, Loss: 8.59592455526581e-06\n",
      "Epoch: 880, Loss: 1.379063724016305e-05\n",
      "Epoch: 890, Loss: 1.5565781723125838e-05\n",
      "Epoch: 900, Loss: 1.0336040759284515e-05\n",
      "Epoch: 910, Loss: 1.029647683026269e-05\n",
      "Epoch: 920, Loss: 8.733083632250782e-06\n",
      "Epoch: 930, Loss: 1.1424427611927968e-05\n",
      "Epoch: 940, Loss: 1.9020151739823632e-05\n",
      "Epoch: 950, Loss: 1.2211680768814404e-05\n",
      "Epoch: 960, Loss: 1.6017364032450132e-05\n",
      "Epoch: 970, Loss: 9.55970426730346e-06\n",
      "Epoch: 980, Loss: 1.6254271031357348e-05\n",
      "Epoch: 990, Loss: 9.780686013982631e-06\n",
      "Epoch: 1000, Loss: 1.3545667570724618e-05\n",
      "Epoch: 1010, Loss: 1.3089827916701324e-05\n",
      "Epoch: 1020, Loss: 9.75734474195633e-06\n",
      "Epoch: 1030, Loss: 1.124332266044803e-05\n",
      "Epoch: 1040, Loss: 9.996189874073025e-06\n",
      "Epoch: 1050, Loss: 1.0522877346375026e-05\n",
      "Epoch: 1060, Loss: 1.0925153219432104e-05\n",
      "Epoch: 1070, Loss: 1.1106911188107915e-05\n",
      "Epoch: 1080, Loss: 9.535618119116407e-06\n",
      "Epoch: 1090, Loss: 1.0719215424614958e-05\n",
      "Epoch: 1100, Loss: 1.3940753888164181e-05\n",
      "Epoch: 1110, Loss: 1.0011614904215094e-05\n",
      "Epoch: 1120, Loss: 8.334315680258442e-06\n",
      "Epoch: 1130, Loss: 9.561661499901675e-06\n",
      "Epoch: 1140, Loss: 1.1678949704219121e-05\n",
      "Epoch: 1150, Loss: 8.17894033389166e-06\n",
      "Epoch: 1160, Loss: 7.594214366690721e-06\n",
      "Epoch: 1170, Loss: 7.931251275294926e-06\n",
      "Epoch: 1180, Loss: 8.705440450285096e-06\n",
      "Epoch: 1190, Loss: 9.593635695637204e-06\n",
      "Epoch: 1200, Loss: 9.858068551693577e-06\n",
      "Epoch: 1210, Loss: 6.3185316321323626e-06\n",
      "Epoch: 1220, Loss: 1.0166960237256717e-05\n",
      "Epoch: 1230, Loss: 1.248430271516554e-05\n",
      "Epoch: 1240, Loss: 6.452396064560162e-06\n",
      "Epoch: 1250, Loss: 7.104885298758745e-06\n",
      "Epoch: 1260, Loss: 8.838159374136012e-06\n",
      "Converged at epoch 1262\n"
     ]
    }
   ],
   "source": [
    "model = NN(num_inputs=NUM_INPUTS, num_hidden_layers= NUM_LAYERS, num_neurons=NUM_NEURONS)\n",
    "optimizer = tf.keras.optimizers.Adam(learning_rate=LEARNING_RATE)\n",
    "\n",
    "@tf.function\n",
    "def train_step(model, input): # function for one single training step\n",
    "    with tf.GradientTape() as tape:\n",
    "        loss = loss_fun(model, input)\n",
    "\n",
    "    gradients = tape.gradient(loss, model.trainable_variables) # calculate the gradients of the loss with respect to \\theta\n",
    "    optimizer.apply_gradients(zip(gradients, model.trainable_variables)) # optimize the parameters to minimize the loss\n",
    "\n",
    "    return loss\n",
    "\n",
    "for epoch in range(EPOCHS):\n",
    "    input_batch = tf.keras.random.uniform(shape=(BATCH_SIZE, NUM_INPUTS), minval=DOMAIN[0], maxval=DOMAIN[1], dtype=tf.float32) #randomly sample BATCH_SIZE number of points from the domain\n",
    "    loss = train_step(model, input_batch) # run the train step for the given batch\n",
    "    if epoch % 10 == 0:\n",
    "        print(f'Epoch: {epoch}, Loss: {loss}')\n",
    "    if loss <= TOLERANCE:\n",
    "        print(f'Converged at epoch {epoch}')\n",
    "        break\n",
    "\n"
   ]
  },
  {
   "cell_type": "markdown",
   "metadata": {},
   "source": [
    "## Prediction and Plotting!"
   ]
  },
  {
   "cell_type": "code",
   "execution_count": 7,
   "metadata": {},
   "outputs": [],
   "source": [
    "def analytical_sol_fn(\n",
    "        x: tf.Tensor\n",
    ")-> tf.Tensor:\n",
    "    return 1.0 / (1.0 + (1.0/FUN_BOUNDARY - 1.0) * tf.exp(-R * x))\n",
    "\n",
    "x_plot = tf.linspace(DOMAIN[0], DOMAIN[1], 1000)[:, tf.newaxis]\n",
    "y_pred = model(x_plot)\n",
    "y_anlt = analytical_sol_fn(x_plot)"
   ]
  },
  {
   "cell_type": "code",
   "execution_count": 8,
   "metadata": {},
   "outputs": [
    {
     "data": {
      "image/png": "[encoded data removed]",
      "text/plain": [
       "<Figure size 1000x600 with 1 Axes>"
      ]
     },
     "metadata": {},
     "output_type": "display_data"
    }
   ],
   "source": [
    "plt.figure(figsize=(10, 6))\n",
    "plt.plot(x_plot, y_pred, label='Predictions')\n",
    "plt.plot(x_plot, y_anlt, label='analytical', linestyle='dashed')\n",
    "plt.xlabel('Input')\n",
    "plt.ylabel('Output')\n",
    "plt.title('Neural Network Predictions vs. Analytical Solution')\n",
    "plt.legend()\n",
    "plt.grid(True)\n",
    "plt.show()"
   ]
  }
 ],
 "metadata": {
  "kernelspec": {
   "display_name": "Python 3",
   "language": "python",
   "name": "python3"
  },
  "language_info": {
   "codemirror_mode": {
    "name": "ipython",
    "version": 3
   },
   "file_extension": ".py",
   "mimetype": "text/x-python",
   "name": "python",
   "nbconvert_exporter": "python",
   "pygments_lexer": "ipython3",
   "version": "3.11.0"
  }
 },
 "nbformat": 4,
 "nbformat_minor": 2
}
